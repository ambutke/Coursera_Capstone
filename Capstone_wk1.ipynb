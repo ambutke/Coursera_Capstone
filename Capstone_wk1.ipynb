{
 "cells": [
  {
   "cell_type": "markdown",
   "metadata": {},
   "source": [
    "# **Applied Data Science Capstone Battle of Neighborhoods:**\n",
    "\n",
    "\n",
    "### Popular Latin Neighborhoods in Toronto "
   ]
  },
  {
   "cell_type": "code",
   "execution_count": 3,
   "metadata": {},
   "outputs": [
    {
     "data": {
      "text/html": [
       "<img src=\"https://upload.wikimedia.org/wikipedia/commons/6/6f/Mexican_Dancers_at_Heritage_Days%2C_Edmonton.jpg\" width=\"400\" height=\"300\"/>"
      ],
      "text/plain": [
       "<IPython.core.display.Image object>"
      ]
     },
     "execution_count": 3,
     "metadata": {},
     "output_type": "execute_result"
    }
   ],
   "source": [
    "from IPython.display import Image\n",
    "from IPython.core.display import HTML \n",
    "\n",
    "Image(url= \"https://upload.wikimedia.org/wikipedia/commons/6/6f/Mexican_Dancers_at_Heritage_Days%2C_Edmonton.jpg\", width=400, height=300)"
   ]
  },
  {
   "cell_type": "markdown",
   "metadata": {},
   "source": [
    "### **Introduction and Business Problem**"
   ]
  },
  {
   "cell_type": "markdown",
   "metadata": {},
   "source": [
    "The Latin Culture and people are a fast and growing population that brings beauty, knowledge and tradition to every country they are in.  While the United States is the mecca for this community, the Canada Latin population is also rapidly growing.  \n",
    "\n",
    "According to 2016 Statistics the highest concentration of Latin American’s resides in Ontario Canada, with the majority of them located in Toronto. Toronto sits at the edge of the United States, which is ideal for immigrants looking to have a natural transition.  There are approximately 73K Spanish speaking people living in Toronto.\n",
    "\n",
    "This project is catered to Latinos who are seeking to immigrate to Canada. Leveraging data from Foursquare and Wikipedia, we will apply data science and python to explore Latin Venues and compare the various neighborhoods in Toronto."
   ]
  },
  {
   "cell_type": "markdown",
   "metadata": {},
   "source": [
    "### **Data and Resources**\n",
    "\n",
    "**Links:**\n",
    ">- Latin Demographic Data Link: https://en.wikipedia.org/wiki/Latin_American_Canadians\n",
    ">- Location Data: https://en.wikipedia.org/wiki/List_of_postal_codes_of_Canada:_M\n",
    "\n",
    "**Resources:**\n",
    ">- Foursquare.com database to explore and search various venues and to compare neighborhoods in Toronto.\n",
    ">- BeautifulSoup Python package for parsing HTML documents\n",
    ">- Geopy  to locate coordinates of Toronto Postal Codes\n",
    ">- Folium for mapping visualization"
   ]
  },
  {
   "cell_type": "code",
   "execution_count": null,
   "metadata": {},
   "outputs": [],
   "source": []
  }
 ],
 "metadata": {
  "kernelspec": {
   "display_name": "Python 3",
   "language": "python",
   "name": "python3"
  },
  "language_info": {
   "codemirror_mode": {
    "name": "ipython",
    "version": 3
   },
   "file_extension": ".py",
   "mimetype": "text/x-python",
   "name": "python",
   "nbconvert_exporter": "python",
   "pygments_lexer": "ipython3",
   "version": "3.7.4"
  }
 },
 "nbformat": 4,
 "nbformat_minor": 2
}
